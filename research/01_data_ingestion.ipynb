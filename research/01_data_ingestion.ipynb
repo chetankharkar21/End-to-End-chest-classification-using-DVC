{
 "cells": [
  {
   "cell_type": "code",
   "execution_count": 1,
   "metadata": {},
   "outputs": [],
   "source": [
    "import os"
   ]
  },
  {
   "cell_type": "code",
   "execution_count": 2,
   "metadata": {},
   "outputs": [
    {
     "data": {
      "text/plain": [
       "'c:\\\\Projects\\\\End-to-End-chest-classification-using-DVC\\\\research'"
      ]
     },
     "execution_count": 2,
     "metadata": {},
     "output_type": "execute_result"
    }
   ],
   "source": [
    "%pwd"
   ]
  },
  {
   "cell_type": "code",
   "execution_count": 3,
   "metadata": {},
   "outputs": [],
   "source": [
    "os.chdir(\"../\")"
   ]
  },
  {
   "cell_type": "code",
   "execution_count": 4,
   "metadata": {},
   "outputs": [
    {
     "data": {
      "text/plain": [
       "'c:\\\\Projects\\\\End-to-End-chest-classification-using-DVC'"
      ]
     },
     "execution_count": 4,
     "metadata": {},
     "output_type": "execute_result"
    }
   ],
   "source": [
    "%pwd"
   ]
  },
  {
   "cell_type": "code",
   "execution_count": 5,
   "metadata": {},
   "outputs": [],
   "source": [
    "from dataclasses import dataclass\n",
    "from pathlib import Path\n",
    "\n",
    "@dataclass(frozen=True)\n",
    "class DataIngestionConfig:\n",
    "    root_dir : Path\n",
    "    source_URL: str\n",
    "    local_data_file: Path\n",
    "    unzip_dir: Path"
   ]
  },
  {
   "cell_type": "code",
   "execution_count": 6,
   "metadata": {},
   "outputs": [],
   "source": [
    "from cnnClassifier.constants import *\n",
    "from cnnClassifier.utils.common import read_yaml , create_directories"
   ]
  },
  {
   "cell_type": "code",
   "execution_count": 7,
   "metadata": {},
   "outputs": [],
   "source": [
    "class ConfigurationManager:\n",
    "    def __init__(\n",
    "        self,\n",
    "        config_filepath=CONFIG_FILE_PATH,\n",
    "        params_filepath=PARAMS_FILE_PATH\n",
    "    ):\n",
    "        self.config = read_yaml(config_filepath)\n",
    "        self.params = read_yaml(params_filepath)\n",
    "\n",
    "        create_directories([self.config.artifacts_root])\n",
    "\n",
    "    def get_data_ingestion_config(self) -> DataIngestionConfig:\n",
    "        config = self.config.data_ingestion\n",
    "\n",
    "        create_directories([config.root_dir])\n",
    "\n",
    "        data_ingestion_config = DataIngestionConfig(\n",
    "            root_dir=config.root_dir,\n",
    "            source_URL=config.source_URL,\n",
    "            local_data_file=config.local_data_file,\n",
    "            unzip_dir=config.unzip_dir\n",
    "        )\n",
    "\n",
    "        return data_ingestion_config\n"
   ]
  },
  {
   "cell_type": "code",
   "execution_count": 8,
   "metadata": {},
   "outputs": [],
   "source": [
    "import os\n",
    "import zipfile\n",
    "import gdown\n",
    "from cnnClassifier import logger\n",
    "from cnnClassifier.utils.common import get_size"
   ]
  },
  {
   "cell_type": "code",
   "execution_count": 9,
   "metadata": {},
   "outputs": [],
   "source": [
    "class DataIngestion:\n",
    "    def __init__(self, config: 'DataIngestionConfig'):\n",
    "        self.config = config\n",
    "\n",
    "    def download_file(self) -> str:\n",
    "        \"\"\"\n",
    "        Fetch data from the URL and save it locally as a zip file.\n",
    "        \"\"\"\n",
    "        try:\n",
    "            dataset_url = self.config.source_URL\n",
    "            zip_download_dir = self.config.local_data_file\n",
    "\n",
    "            # Create the parent directory for the zip file if it doesn't exist\n",
    "            os.makedirs(os.path.dirname(zip_download_dir), exist_ok=True)\n",
    "\n",
    "            logger.info(f\"Downloading data from {dataset_url} into file {zip_download_dir}\")\n",
    "\n",
    "            # Correcting the prefix for Google Drive file download\n",
    "        \n",
    "            file_url = 'https://drive.google.com/uc?id=11JqNDxjF-pQC_jGXDwWG0djAGJGHkdNs&export=download'\n",
    "            \n",
    "            # Downloading the file using gdown\n",
    "            gdown.download(file_url, zip_download_dir, quiet=False)  # Set quiet=False for detailed logs\n",
    "\n",
    "            logger.info(f\"Downloaded data from {dataset_url} into file {zip_download_dir}\")\n",
    "        except Exception as e:\n",
    "            logger.error(f\"Error occurred while downloading file: {e}\")\n",
    "            raise e\n",
    "\n",
    "    def extract_zip_file(self):\n",
    "        \"\"\"\n",
    "        Extracts the zip file into the specified directory.\n",
    "        \"\"\"\n",
    "        try:\n",
    "            unzip_path = self.config.unzip_dir\n",
    "            os.makedirs(unzip_path, exist_ok=True)\n",
    "\n",
    "            # Extracting the zip file\n",
    "            with zipfile.ZipFile(self.config.local_data_file, \"r\") as zip_ref:\n",
    "                zip_ref.extractall(unzip_path)\n",
    "            \n",
    "            logger.info(f\"Extracted zip file {self.config.local_data_file} into directory {unzip_path}\")\n",
    "        except zipfile.BadZipFile as e:\n",
    "            logger.error(f\"Invalid zip file: {e}\")\n",
    "            raise e\n",
    "        except FileNotFoundError as e:\n",
    "            logger.error(f\"Zip file not found: {e}\")\n",
    "            raise e\n",
    "        except Exception as e:\n",
    "            logger.error(f\"Error occurred while extracting zip file: {e}\")\n",
    "            raise e"
   ]
  },
  {
   "cell_type": "code",
   "execution_count": 10,
   "metadata": {},
   "outputs": [
    {
     "name": "stdout",
     "output_type": "stream",
     "text": [
      "[2024-12-22 00:40:31,164: INFO: 3649388521: Initializing ConfigurationManager...]\n",
      "[2024-12-22 00:40:31,176: INFO: common: YAML file: config\\config.yaml loaded successfully]\n",
      "[2024-12-22 00:40:31,176: INFO: common: YAML file: params.yaml loaded successfully]\n",
      "[2024-12-22 00:40:31,185: INFO: common: Created directory at: artifacts]\n",
      "[2024-12-22 00:40:31,185: INFO: 3649388521: Fetching DataIngestionConfig...]\n",
      "[2024-12-22 00:40:31,187: INFO: common: Created directory at: artifacts/data_ingestion]\n",
      "[2024-12-22 00:40:31,187: INFO: 3649388521: Initializing DataIngestion...]\n",
      "[2024-12-22 00:40:31,187: INFO: 3649388521: Downloading file...]\n",
      "[2024-12-22 00:40:31,191: INFO: 2636377133: Downloading data from https://drive.google.com/uc?id=11JqNDxjF-pQC_jGXDwWG0djAGJGHkdNs&export=download into file artifacts/data_ingestion/data.zip]\n"
     ]
    },
    {
     "name": "stderr",
     "output_type": "stream",
     "text": [
      "Downloading...\n",
      "From (original): https://drive.google.com/uc?id=11JqNDxjF-pQC_jGXDwWG0djAGJGHkdNs&export=download\n",
      "From (redirected): https://drive.google.com/uc?id=11JqNDxjF-pQC_jGXDwWG0djAGJGHkdNs&export=download&confirm=t&uuid=74ac07c6-07e4-4562-bd76-9ea715f23e91\n",
      "To: c:\\Projects\\End-to-End-chest-classification-using-DVC\\artifacts\\data_ingestion\\data.zip\n",
      "100%|██████████| 49.0M/49.0M [00:05<00:00, 8.20MB/s]"
     ]
    },
    {
     "name": "stdout",
     "output_type": "stream",
     "text": [
      "[2024-12-22 00:40:41,623: INFO: 2636377133: Downloaded data from https://drive.google.com/uc?id=11JqNDxjF-pQC_jGXDwWG0djAGJGHkdNs&export=download into file artifacts/data_ingestion/data.zip]\n",
      "[2024-12-22 00:40:41,623: INFO: 3649388521: Extracting zip file...]\n"
     ]
    },
    {
     "name": "stderr",
     "output_type": "stream",
     "text": [
      "\n"
     ]
    },
    {
     "name": "stdout",
     "output_type": "stream",
     "text": [
      "[2024-12-22 00:40:42,321: INFO: 2636377133: Extracted zip file artifacts/data_ingestion/data.zip into directory artifacts/data_ingestion]\n",
      "[2024-12-22 00:40:42,321: INFO: 3649388521: Pipeline executed successfully!]\n"
     ]
    }
   ],
   "source": [
    "try:\n",
    "    logger.info(\"Initializing ConfigurationManager...\")\n",
    "    config = ConfigurationManager()\n",
    "    \n",
    "    logger.info(\"Fetching DataIngestionConfig...\")\n",
    "    data_ingestion_config = config.get_data_ingestion_config()\n",
    "    \n",
    "    logger.info(\"Initializing DataIngestion...\")\n",
    "    data_ingestion = DataIngestion(config=data_ingestion_config)\n",
    "    \n",
    "    logger.info(\"Downloading file...\")\n",
    "    data_ingestion.download_file()\n",
    "    \n",
    "    logger.info(\"Extracting zip file...\")\n",
    "    data_ingestion.extract_zip_file()\n",
    "    \n",
    "    logger.info(\"Pipeline executed successfully!\")\n",
    "except Exception as e:\n",
    "    logger.error(f\"Pipeline execution failed: {e}\")\n",
    "    raise RuntimeError(f\"Pipeline execution failed due to: {str(e)}\") from e\n"
   ]
  },
  {
   "cell_type": "code",
   "execution_count": null,
   "metadata": {},
   "outputs": [],
   "source": []
  }
 ],
 "metadata": {
  "kernelspec": {
   "display_name": "cancer",
   "language": "python",
   "name": "python3"
  },
  "language_info": {
   "codemirror_mode": {
    "name": "ipython",
    "version": 3
   },
   "file_extension": ".py",
   "mimetype": "text/x-python",
   "name": "python",
   "nbconvert_exporter": "python",
   "pygments_lexer": "ipython3",
   "version": "3.11.9"
  }
 },
 "nbformat": 4,
 "nbformat_minor": 2
}
